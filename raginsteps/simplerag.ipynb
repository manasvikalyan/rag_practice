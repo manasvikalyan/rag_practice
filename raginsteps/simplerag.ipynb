{
 "cells": [
  {
   "cell_type": "markdown",
   "metadata": {},
   "source": [
    "## load the document"
   ]
  },
  {
   "cell_type": "code",
   "execution_count": 3,
   "metadata": {},
   "outputs": [
    {
     "data": {
      "text/plain": [
       "[Document(page_content='Essay on Technology\\nThe word \"technology\" and its uses have immensely changed since the 20th century, and with time, it has continued to evolve ever since. We are living in a world driven by technology. The advancement of technology has played an important role in the development of human civilization, along with cultural changes. Technology provides innovative ways of doing work through various smart and innovative means. \\n\\nElectronic appliances, gadgets, faster modes of communication, and transport have added to the comfort factor in our lives. It has helped in improving the productivity of individuals and different business enterprises. Technology has brought a revolution in many operational fields. It has undoubtedly made a very important contribution to the progress that mankind has made over the years.\\n\\n\\nThe Advancement of Technology:\\nTechnology has reduced the effort and time and increased the efficiency of the production requirements in every field. It has made our lives easy, comfortable, healthy, and enjoyable. It has brought a revolution in transport and communication. The advancement of technology, along with science, has helped us to become self-reliant in all spheres of life. With the innovation of a particular technology, it becomes part of society and integral to human lives after a point in time.\\n\\n\\nTechnology is Our Part of Life:\\nTechnology has changed our day-to-day lives. Technology has brought the world closer and better connected. Those days have passed when only the rich could afford such luxuries. Because of the rise of globalisation and liberalisation, all luxuries are now within the reach of the average person. Today, an average middle-class family can afford a mobile phone, a television, a washing machine, a refrigerator, a computer, the Internet, etc. At the touch of a switch, a man can witness any event that is happening in far-off places. \\n\\n\\nBenefits of Technology in All Fields: \\nWe cannot escape technology; it has improved the quality of life and brought about revolutions in various fields of modern-day society, be it communication, transportation, education, healthcare, and many more. Let us learn about it.\\n\\n\\nTechnology in Communication:\\nWith the advent of technology in communication, which includes telephones, fax machines, cellular phones, the Internet, multimedia, and email, communication has become much faster and easier. It has transformed and influenced relationships in many ways. We no longer need to rely on sending physical letters and waiting for several days for a response. Technology has made communication so simple that you can connect with anyone from anywhere by calling them via mobile phone or messaging them using different messaging apps that are easy to download.\\n\\nInnovation in communication technology has had an immense influence on social life. Human socialising has become easier by using social networking sites, dating, and even matrimonial services available on mobile applications and websites.\\n\\nToday, the Internet is used for shopping, paying utility bills, credit card bills, admission fees, e-commerce, and online banking. In the world of marketing, many companies are marketing and selling their products and creating brands over the internet. \\n\\nIn the field of travel, cities, towns, states, and countries are using the web to post detailed tourist and event information. Travellers across the globe can easily find information on tourism, sightseeing, places to stay, weather, maps, timings for events, transportation schedules, and buy tickets to various tourist spots and destinations.\\n\\n\\nTechnology in the Office or Workplace:\\nTechnology has increased efficiency and flexibility in the workspace. Technology has made it easy to work remotely, which has increased the productivity of the employees. External and internal communication has become faster through emails and apps. Automation has saved time, and there is also a reduction in redundancy in tasks. Robots are now being used to manufacture products that consistently deliver the same product without defect until the robot itself fails. Artificial Intelligence and Machine Learning technology are innovations that are being deployed across industries to reap benefits.\\n\\nTechnology has wiped out the manual way of storing files. Now files are stored in the cloud, which can be accessed at any time and from anywhere. With technology, companies can make quick decisions, act faster towards solutions, and remain adaptable. Technology has optimised the usage of resources and connected businesses worldwide. For example, if the customer is based in America, he can have the services delivered from India. They can communicate with each other in an instant. Every company uses business technology like virtual meeting tools, corporate social networks, tablets, and smart customer relationship management applications that accelerate the fast movement of data and information.\\n\\n\\nTechnology in Education:\\nTechnology is making the education industry improve over time. With technology, students and parents have a variety of learning tools at their fingertips. Teachers can coordinate with classrooms across the world and share their ideas and resources online. Students can get immediate access to an abundance of good information on the Internet. Teachers and students can access plenty of resources available on the web and utilise them for their project work, research, etc. Online learning has changed our perception of education. \\n\\nThe COVID-19 pandemic brought a paradigm shift using technology where school-going kids continued their studies from home and schools facilitated imparting education by their teachers online from home. Students have learned and used 21st-century skills and tools, like virtual classrooms, AR (Augmented Reality), robots, etc. All these have increased communication and collaboration significantly. ', metadata={'source': 'doc.txt'})]"
      ]
     },
     "execution_count": 3,
     "metadata": {},
     "output_type": "execute_result"
    }
   ],
   "source": [
    "#data ingestion of text doc\n",
    "from langchain_community.document_loaders import TextLoader\n",
    "loader=TextLoader('doc.txt')\n",
    "text_doc=loader.load()\n",
    "text_doc"
   ]
  },
  {
   "cell_type": "code",
   "execution_count": null,
   "metadata": {},
   "outputs": [],
   "source": [
    "#for url we use bs4"
   ]
  },
  {
   "cell_type": "code",
   "execution_count": 6,
   "metadata": {},
   "outputs": [
    {
     "data": {
      "text/plain": [
       "[Document(page_content='     \\nCh 9 Desert Animals  \\nA. 1. Talk to your partner and say whether the following \\nstatements are true or false.     \\n(i) No animal can survive without water.   \\n► True  \\n  \\n(ii) Deserts are endless sand dunes.   \\n► False  \\n  \\n(iii) Most snakes are harmless.   \\n► True  \\n  \\n(iv) Snakes cannot hear, but they can feel vibrations through the \\nground.   \\n► True  \\n  \\n(v) Camels store water in their humps.   \\n► False  \\n  \\n2. Answer the following questions.     \\n(i) How do desert animals survive without water? (1)   \\n  \\nAnswer     \\nDesert animals cannot survive without water. They find different \\nways of coping with the harsh desert conditions. For example, \\ngerbils spend the hottest part of the day in cool underground \\nburrows. And darkling beetles catch moisture on their legs and \\nthen lift them into the air till the drops trickle down into their \\nmouths.  ', metadata={'source': 'ch9.pdf', 'page': 0}),\n",
       " Document(page_content='     \\n  \\n(ii) How do mongooses kill snakes? (6)   \\n  \\nAnswer     \\nMongooses kill snakes without getting hurt themselves. Their \\nreactions are so fast that they dodge each time the snake strikes. \\nThey continually make a nuisance of themselves, and after a \\nwhile, when the snake gets tired, they quickly dive in for the \\nkill.   \\n(iii) How does the hump of the camels help them to survive \\nwhen there is no water? (9)   \\n  \\nAnswer     \\nThe humps of the camels help the animal to survive in the \\ndesert, by acting as storage containers. The hump is full of fat \\nthat nourishes the camel when food is scarce. If they have \\nnothing to eat for several days, their humps shrink as the fat is \\nused up.   \\n  \\nB. Read the words/phrases in the box. With your partner \\nfind their meaning in the dictionary.   \\nHarsh  \\nconditions  harmless  survive  intruder  threatened  predators  pr \\ney  continually   \\nFill in the blanks in the following passage with the above \\nwords/phrases.   \\n  \\nAll animals in forests and deserts struggle to ______ in ______. \\nThough most of the animals are ______, some are dangerous \\nwhen ______. If an ______ is noticed, they attack or bit e to save ', metadata={'source': 'ch9.pdf', 'page': 1}),\n",
       " Document(page_content='     \\nthemselves. They struggle ______ for food and water. Some \\nanimals are called ______ because they ______ on other \\nanimals.   \\n  \\nAnswer   \\n  \\nAll animals in forests and deserts struggle to survive in harsh  \\nconditions . Though most of the animals are harm less, some are \\ndangerous when threatened . If an intruder  is noticed, they attack \\nor bite to save themselves. They struggle continually  for food \\nand water. Some animals are called predators  because they prey \\non other animals.   ', metadata={'source': 'ch9.pdf', 'page': 2})]"
      ]
     },
     "execution_count": 6,
     "metadata": {},
     "output_type": "execute_result"
    }
   ],
   "source": [
    "#pdf reader\n",
    "from langchain_community.document_loaders import PyPDFLoader\n",
    "loader=PyPDFLoader('ch9.pdf')\n",
    "pdf_doc=loader.load()\n",
    "pdf_doc"
   ]
  },
  {
   "cell_type": "markdown",
   "metadata": {},
   "source": [
    "## transform into chunks "
   ]
  },
  {
   "cell_type": "code",
   "execution_count": 9,
   "metadata": {},
   "outputs": [
    {
     "data": {
      "text/plain": [
       "[Document(page_content='     \\nCh 9 Desert Animals  \\nA. 1. Talk to your partner and say whether the following \\nstatements are true or false.     \\n(i) No animal can survive without water.   \\n► True  \\n  \\n(ii) Deserts are endless sand dunes.   \\n► False  \\n  \\n(iii) Most snakes are harmless.   \\n► True  \\n  \\n(iv) Snakes cannot hear, but they can feel vibrations through the \\nground.   \\n► True  \\n  \\n(v) Camels store water in their humps.   \\n► False  \\n  \\n2. Answer the following questions.     \\n(i) How do desert animals survive without water? (1)   \\n  \\nAnswer     \\nDesert animals cannot survive without water. They find different \\nways of coping with the harsh desert conditions. For example, \\ngerbils spend the hottest part of the day in cool underground \\nburrows. And darkling beetles catch moisture on their legs and \\nthen lift them into the air till the drops trickle down into their \\nmouths.  ', metadata={'source': 'ch9.pdf', 'page': 0}),\n",
       " Document(page_content='     \\n  \\n(ii) How do mongooses kill snakes? (6)   \\n  \\nAnswer     \\nMongooses kill snakes without getting hurt themselves. Their \\nreactions are so fast that they dodge each time the snake strikes. \\nThey continually make a nuisance of themselves, and after a \\nwhile, when the snake gets tired, they quickly dive in for the \\nkill.   \\n(iii) How does the hump of the camels help them to survive \\nwhen there is no water? (9)   \\n  \\nAnswer     \\nThe humps of the camels help the animal to survive in the \\ndesert, by acting as storage containers. The hump is full of fat \\nthat nourishes the camel when food is scarce. If they have \\nnothing to eat for several days, their humps shrink as the fat is \\nused up.   \\n  \\nB. Read the words/phrases in the box. With your partner \\nfind their meaning in the dictionary.   \\nHarsh  \\nconditions  harmless  survive  intruder  threatened  predators  pr \\ney  continually   \\nFill in the blanks in the following passage with the above \\nwords/phrases.   \\n  \\nAll animals in forests and deserts struggle to ______ in ______. \\nThough most of the animals are ______, some are dangerous \\nwhen ______. If an ______ is noticed, they attack or bit e to save ', metadata={'source': 'ch9.pdf', 'page': 1}),\n",
       " Document(page_content='     \\nthemselves. They struggle ______ for food and water. Some \\nanimals are called ______ because they ______ on other \\nanimals.   \\n  \\nAnswer   \\n  \\nAll animals in forests and deserts struggle to survive in harsh  \\nconditions . Though most of the animals are harm less, some are \\ndangerous when threatened . If an intruder  is noticed, they attack \\nor bite to save themselves. They struggle continually  for food \\nand water. Some animals are called predators  because they prey \\non other animals.   ', metadata={'source': 'ch9.pdf', 'page': 2})]"
      ]
     },
     "execution_count": 9,
     "metadata": {},
     "output_type": "execute_result"
    }
   ],
   "source": [
    "from langchain.text_splitter import RecursiveCharacterTextSplitter\n",
    "text_splitter=RecursiveCharacterTextSplitter(chunk_size=1000,chunk_overlap=200)\n",
    "documents=text_splitter.split_documents(pdf_doc)\n",
    "pdf_doc  "
   ]
  },
  {
   "cell_type": "markdown",
   "metadata": {},
   "source": [
    "#### above the entire document is converted into small chunks and now we have to convert these cunks into vectors"
   ]
  },
  {
   "cell_type": "markdown",
   "metadata": {},
   "source": [
    "## vector embedding and store them in vector store"
   ]
  },
  {
   "cell_type": "code",
   "execution_count": null,
   "metadata": {},
   "outputs": [],
   "source": [
    "#ollama embedding\n",
    "from langchain.embeddings import OllamaEmbeddings\n"
   ]
  },
  {
   "cell_type": "code",
   "execution_count": null,
   "metadata": {},
   "outputs": [],
   "source": []
  }
 ],
 "metadata": {
  "kernelspec": {
   "display_name": "sim",
   "language": "python",
   "name": "python3"
  },
  "language_info": {
   "codemirror_mode": {
    "name": "ipython",
    "version": 3
   },
   "file_extension": ".py",
   "mimetype": "text/x-python",
   "name": "python",
   "nbconvert_exporter": "python",
   "pygments_lexer": "ipython3",
   "version": "3.9.18"
  }
 },
 "nbformat": 4,
 "nbformat_minor": 2
}
